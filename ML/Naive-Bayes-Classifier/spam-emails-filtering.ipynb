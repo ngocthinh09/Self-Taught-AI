{
 "cells": [
  {
   "cell_type": "code",
   "execution_count": 17,
   "metadata": {},
   "outputs": [],
   "source": [
    "import numpy as np\n",
    "from scipy.sparse import coo_matrix\n",
    "from sklearn import naive_bayes\n",
    "from sklearn.metrics import accuracy_score\n",
    "\n",
    "# data path and file name\n",
    "path = 'ex6DataPrepared/'\n",
    "train_data_fn = 'train-features.txt'\n",
    "train_label_fn = 'train-labels.txt'\n",
    "test_data_fn = 'test-features.txt'\n",
    "test_label_fn = 'test-labels.txt'"
   ]
  },
  {
   "cell_type": "code",
   "execution_count": 18,
   "metadata": {},
   "outputs": [],
   "source": [
    "nwords = 2500\n",
    "\n",
    "def read_data(data_fn, label_fn):\n",
    "    with open(path + label_fn) as fl:\n",
    "        content = fl.readlines()\n",
    "    label = [int(x.strip()) for x in content]\n",
    "    \n",
    "    with open(path + data_fn) as fl:\n",
    "        content = fl.readlines()\n",
    "    content = [x.strip() for x in content]\n",
    "    \n",
    "    dt = np.zeros(shape = (len(content), 3), dtype = int)\n",
    "    \n",
    "    for (i, line) in enumerate(content):\n",
    "        tmp = line.split(' ')\n",
    "        dt[i] = np.array([int(tmp[0]), int(tmp[1]), int(tmp[2])])\n",
    "        \n",
    "    data = coo_matrix((dt[ : , 2], (dt[ : , 0] - 1, dt[ : , 1] - 1)), shape = (len(label), nwords))\n",
    "        \n",
    "    return (data, label)"
   ]
  },
  {
   "cell_type": "code",
   "execution_count": 19,
   "metadata": {},
   "outputs": [
    {
     "name": "stdout",
     "output_type": "stream",
     "text": [
      "Training size: 700, accuracy_score: 98.08 %\n"
     ]
    }
   ],
   "source": [
    "(train_data, train_label) = read_data(train_data_fn, train_label_fn)\n",
    "(test_data, test_label) = read_data(test_data_fn, test_label_fn)\n",
    "\n",
    "model = naive_bayes.MultinomialNB()\n",
    "model.fit(train_data, train_label)\n",
    "\n",
    "y_pred = model.predict(test_data)\n",
    "\n",
    "print(f'Training size: {train_data.shape[0]}, accuracy_score: {accuracy_score(test_label, y_pred)*100:.2f} %')"
   ]
  },
  {
   "cell_type": "code",
   "execution_count": 20,
   "metadata": {},
   "outputs": [
    {
     "name": "stdout",
     "output_type": "stream",
     "text": [
      "Training size: 50, accuracy_score: 97.31 %\n",
      "Training size: 400, accuracy_score: 97.69 %\n"
     ]
    }
   ],
   "source": [
    "train_data_fn = 'train-features-50.txt'\n",
    "train_label_fn = 'train-labels-50.txt'\n",
    "\n",
    "(train_data, train_label) = read_data(train_data_fn, train_label_fn)\n",
    "(test_data, test_label) = read_data(test_data_fn, test_label_fn)\n",
    "\n",
    "model = naive_bayes.MultinomialNB()\n",
    "model.fit(train_data, train_label)\n",
    "\n",
    "y_pred = model.predict(test_data)\n",
    "print(f'Training size: {train_data.shape[0]}, accuracy_score: {accuracy_score(test_label, y_pred)*100:.2f} %')\n",
    "\n",
    "\n",
    "\n",
    "train_data_fn = 'train-features-400.txt'\n",
    "train_label_fn = 'train-labels-400.txt'\n",
    "\n",
    "(train_data, train_label) = read_data(train_data_fn, train_label_fn)\n",
    "(test_data, test_label) = read_data(test_data_fn, test_label_fn)\n",
    "\n",
    "model = naive_bayes.MultinomialNB()\n",
    "model.fit(train_data, train_label)\n",
    "\n",
    "y_pred = model.predict(test_data)\n",
    "print(f'Training size: {train_data.shape[0]}, accuracy_score: {accuracy_score(test_label, y_pred)*100:.2f} %')"
   ]
  },
  {
   "cell_type": "code",
   "execution_count": 21,
   "metadata": {},
   "outputs": [
    {
     "name": "stdout",
     "output_type": "stream",
     "text": [
      "Training size: 100, accuracy_score: 78.08 %\n"
     ]
    }
   ],
   "source": [
    "train_data_fn = 'train-features-100.txt'\n",
    "train_label_fn = 'train-labels-100.txt'\n",
    "\n",
    "(train_data, train_label) = read_data(train_data_fn, train_label_fn)\n",
    "(test_data, test_label) = read_data(test_data_fn, test_label_fn)\n",
    "\n",
    "model = naive_bayes.BernoulliNB(binarize = 0.5)\n",
    "model.fit(train_data, train_label)\n",
    "\n",
    "y_pred = model.predict(test_data)\n",
    "print(f'Training size: {train_data.shape[0]}, accuracy_score: {accuracy_score(test_label, y_pred)*100:.2f} %')"
   ]
  }
 ],
 "metadata": {
  "kernelspec": {
   "display_name": "Python 3",
   "language": "python",
   "name": "python3"
  },
  "language_info": {
   "codemirror_mode": {
    "name": "ipython",
    "version": 3
   },
   "file_extension": ".py",
   "mimetype": "text/x-python",
   "name": "python",
   "nbconvert_exporter": "python",
   "pygments_lexer": "ipython3",
   "version": "3.13.0"
  }
 },
 "nbformat": 4,
 "nbformat_minor": 2
}
