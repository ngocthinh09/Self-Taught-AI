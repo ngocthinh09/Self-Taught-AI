{
 "cells": [
  {
   "cell_type": "code",
   "execution_count": 1,
   "metadata": {},
   "outputs": [],
   "source": [
    "import numpy as np\n",
    "from time import time\n",
    "np.random.seed(2)"
   ]
  },
  {
   "cell_type": "code",
   "execution_count": 2,
   "metadata": {},
   "outputs": [
    {
     "name": "stdout",
     "output_type": "stream",
     "text": [
      "[[2 2 5 4 5]\n",
      " [4 4 7 6 7]\n",
      " [3 3 6 5 6]\n",
      " [5 5 8 7 8]\n",
      " [4 4 7 6 7]]\n",
      "[[1]\n",
      " [3]\n",
      " [2]\n",
      " [4]\n",
      " [3]]\n",
      "[[1 1 4 3 4]]\n"
     ]
    }
   ],
   "source": [
    "# print(np.random.randint(1, 11, size = (10,10)))\n",
    "\n",
    "matrix = np.random.randint(1, 6, size = (1,5))\n",
    "vector = np.random.randint(1, 6, size = (5,1))\n",
    "\n",
    "print(vector + matrix)\n",
    "print(vector)\n",
    "print(matrix)\n"
   ]
  },
  {
   "cell_type": "code",
   "execution_count": 15,
   "metadata": {},
   "outputs": [],
   "source": [
    "d, N = 1000, 10000\n",
    "X = np.random.randn(N, d)\n",
    "z = np.random.randn(d)\n"
   ]
  },
  {
   "cell_type": "markdown",
   "metadata": {},
   "source": [
    "#### Khoảng cách từ một điểm đến từng điểm trong một tập hợp\n"
   ]
  },
  {
   "cell_type": "code",
   "execution_count": 4,
   "metadata": {},
   "outputs": [
    {
     "name": "stdout",
     "output_type": "stream",
     "text": [
      "naive point2set, running time: 0.4497668743133545 s\n",
      "fast point2set, running time: 0.12954950332641602 s\n",
      "Result difference :  2.5816676365570415e-11\n"
     ]
    }
   ],
   "source": [
    "def dist_pp(z, x):\n",
    "    minus = z - x.reshape(z.shape)\n",
    "    return np.sum(minus * minus)\n",
    "\n",
    "def dist_ps_naive(z, X):\n",
    "    N = X.shape[0] \n",
    "    result = np.zeros(shape = (1, N))\n",
    "    for i in range(N):\n",
    "        result[0][i] = dist_pp(z, X[i])\n",
    "    return result\n",
    "\n",
    "def dist_ps_fast(z, X):\n",
    "    X2 = np.sum(X * X, axis = 1)\n",
    "    z2 = np.sum(z * z)\n",
    "    return X2 + z2 - 2*(X @ z)\n",
    "\n",
    "begin = time()\n",
    "D1 = dist_ps_naive(z, X)\n",
    "print('naive point2set, running time:', time() - begin, 's')\n",
    "\n",
    "begin = time()\n",
    "D2 = dist_ps_fast(z, X)\n",
    "print('fast point2set, running time:', time() - begin, 's')\n",
    "\n",
    "print('Result difference : ',np.linalg.norm(D1 - D2))\n",
    "    "
   ]
  },
  {
   "cell_type": "markdown",
   "metadata": {},
   "source": [
    "#### Khoảng cách giữa từng cặp điểm trong hai tập hợp"
   ]
  },
  {
   "cell_type": "code",
   "execution_count": 5,
   "metadata": {},
   "outputs": [
    {
     "name": "stdout",
     "output_type": "stream",
     "text": [
      "naive set2set, running time: 10.85176396369934 s\n",
      "fast set2set, running time: 0.22307085990905762 s\n",
      "Result difference :  9.551967834751661e-11\n"
     ]
    }
   ],
   "source": [
    "M = 100\n",
    "Z = np.random.randn(M, d)\n",
    "\n",
    "def dist_ss_naive(Z, X):\n",
    "    M = Z.shape[0]\n",
    "    N = X.shape[0]\n",
    "    result = np.zeros(shape = (M, N))\n",
    "    for i in range(M):\n",
    "        result[i] = dist_ps_fast(Z[i], X)\n",
    "    return result\n",
    "\n",
    "def dist_ss_fast(Z, X):\n",
    "    X2 = np.sum(X * X, axis = 1)\n",
    "    Z2 = np.sum(Z * Z, axis = 1)\n",
    "    return Z2.reshape(-1, 1) + X2.reshape(1, -1) - 2*(Z @ X.T)\n",
    "\n",
    "begin = time()\n",
    "D3 = dist_ss_naive(Z, X)\n",
    "print('naive set2set, running time:', time() - begin, 's')\n",
    "\n",
    "begin = time()\n",
    "D4 = dist_ss_fast(Z, X)\n",
    "print('fast set2set, running time:', time() - begin, 's')\n",
    "\n",
    "print('Result difference : ',np.linalg.norm(D3 - D4))"
   ]
  },
  {
   "cell_type": "markdown",
   "metadata": {},
   "source": [
    "#### Iris flower dataset"
   ]
  },
  {
   "cell_type": "code",
   "execution_count": 6,
   "metadata": {},
   "outputs": [],
   "source": [
    "from sklearn import datasets, neighbors\n",
    "from sklearn.model_selection import train_test_split\n",
    "from sklearn.metrics import accuracy_score"
   ]
  },
  {
   "cell_type": "code",
   "execution_count": 7,
   "metadata": {},
   "outputs": [
    {
     "name": "stdout",
     "output_type": "stream",
     "text": [
      "Labels : [0 1 2]\n",
      "Train size : 20, test_size : 130\n"
     ]
    }
   ],
   "source": [
    "np.random.seed(7)\n",
    "iris_data = datasets.load_iris()\n",
    "iris_X = iris_data.data\n",
    "iris_y = iris_data.target\n",
    "print('Labels :',np.unique(iris_y))\n",
    "\n",
    "# split train and test\n",
    "X_train, X_test, y_train, y_test = train_test_split(iris_X, iris_y, test_size = 130)\n",
    "print(f'Train size : {X_train.shape[0]}, test_size : {X_test.shape[0]}')"
   ]
  },
  {
   "cell_type": "code",
   "execution_count": 8,
   "metadata": {},
   "outputs": [
    {
     "name": "stdout",
     "output_type": "stream",
     "text": [
      "Accuracy of 1NN : 92.31%\n"
     ]
    }
   ],
   "source": [
    "model = neighbors.KNeighborsClassifier(n_neighbors = 1, p = 2)\n",
    "model.fit(X_train, y_train)\n",
    "y_pred = model.predict(X_test)\n",
    "print('Accuracy of 1NN : {:.2f}%'.format(100 * accuracy_score(y_test, y_pred)))"
   ]
  },
  {
   "cell_type": "code",
   "execution_count": 9,
   "metadata": {},
   "outputs": [
    {
     "name": "stdout",
     "output_type": "stream",
     "text": [
      "Accuracy of 7NN with major voting : 93.85%\n"
     ]
    }
   ],
   "source": [
    "model = neighbors.KNeighborsClassifier(n_neighbors = 7, p = 2)\n",
    "model.fit(X_train, y_train)\n",
    "y_pred = model.predict(X_test)\n",
    "print('Accuracy of 7NN with major voting : {:.2f}%'.format(100 * accuracy_score(y_test, y_pred)))"
   ]
  },
  {
   "cell_type": "code",
   "execution_count": 10,
   "metadata": {},
   "outputs": [
    {
     "name": "stdout",
     "output_type": "stream",
     "text": [
      "Accuracy of 7NN with (1/distance weights) : 94.62%\n"
     ]
    }
   ],
   "source": [
    "model = neighbors.KNeighborsClassifier(n_neighbors = 7, p = 2, weights = 'distance')\n",
    "model.fit(X_train, y_train)\n",
    "y_pred = model.predict(X_test)\n",
    "print('Accuracy of 7NN with (1/distance weights) : {:.2f}%'.format(100 * accuracy_score(y_test, y_pred)))"
   ]
  },
  {
   "cell_type": "code",
   "execution_count": 11,
   "metadata": {},
   "outputs": [
    {
     "name": "stdout",
     "output_type": "stream",
     "text": [
      "Accuracy of 7NN with customized_weight : 95.38%\n"
     ]
    }
   ],
   "source": [
    "def customized_weight(distance):\n",
    "    sigma = .4\n",
    "    return np.exp(-distance**2/sigma)\n",
    "\n",
    "model = neighbors.KNeighborsClassifier(n_neighbors = 7, p = 2, weights = customized_weight)\n",
    "model.fit(X_train, y_train)\n",
    "y_pred = model.predict(X_test)\n",
    "print('Accuracy of 7NN with customized_weight : {:.2f}%'.format(100 * accuracy_score(y_test, y_pred)))"
   ]
  }
 ],
 "metadata": {
  "kernelspec": {
   "display_name": "Python 3",
   "language": "python",
   "name": "python3"
  },
  "language_info": {
   "codemirror_mode": {
    "name": "ipython",
    "version": 3
   },
   "file_extension": ".py",
   "mimetype": "text/x-python",
   "name": "python",
   "nbconvert_exporter": "python",
   "pygments_lexer": "ipython3",
   "version": "3.13.0"
  }
 },
 "nbformat": 4,
 "nbformat_minor": 2
}
